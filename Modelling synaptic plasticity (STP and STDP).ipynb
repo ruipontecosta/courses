{
 "cells": [
  {
   "cell_type": "markdown",
   "metadata": {},
   "source": [
    "As we discussed in the class presynaptic action potentials trigger the <i>release of neurotransmitter</i> that binds to postsynaptic receptors. If multiple presynaptic action potentials are trigger in quick succession, in most synapses we observe that the postsynaptic responses eliceted by presynaptic spikes can be reduced in their amplitude (<b>short-term synaptic depression</b>) or increased (<b>short-term synaptic facilitation</b>). This is an effect that lasts up to tens of seconds. Here we will look at a mathematical model of short-term synaptic plasticity that captures <b>short-term depression</b>.\n",
    "\n",
    "<br>\n",
    "<figure>\n",
    "    <img src='files/Figures/Synapse_STP.png' width=\"410\" alt='Synapse with short-term synaptic plasticity (depression)' />\n",
    "    <figcaption><b>Figure 1</b>: Schematic of synapse with short-term depression. The schematic represents the presynapse and neurotransmitter vesicles (blue) and the postsynapse with neurotransmitter receptors (red). Vertical blue lines represent presynaptic spikes. Red traces represent the postsynaptic voltage with excitatory postsynaptic potentials recorded from connection between pyramidal cells in the visual cortex of young mice (Costa et al. 2013). </figcaption>\n",
    "</figure>\n",
    "\n",
    "\n",
    "# 1. A model of short-term depression\n",
    "\n",
    "This notebook implements a simple <b>short-term plasticity</b> model based on the model first introduced in:\n",
    "<br>\n",
    "Tsodyks, M., & Markram, H. (1997). The neural code between neocortical pyramidal neurons depends on neurotransmitter release probability. Proc. Natl. Acad. Sci. USA, 94(2), 719–723.\n",
    "<p>\n",
    "\n",
    "This model is defined by the following differential equations:\n",
    "<br>\n",
    "<center>\n",
    "<font size=\"5\">\n",
    "$\\begin{equation}\n",
    "\\frac{dR}{dt} = \\frac{1-R}{\\tau_D} - RU\\delta_{\\mathrm{spike}}\n",
    "\\end{equation}$\n",
    "</font>\n",
    "</center>\n",
    "\n",
    "where $R$ represents the number of presynaptic vesicles, $\\tau_D$ the depression timeconstant, $U$ the vesicle release probability (also called Utilization Factor) and $\\delta_{\\mathrm{spike}}$ represents the presynaptic spike. The postsynaptic response This can implemented as:\n",
    "<br>\n",
    "```python\n",
    "dR = (1-R)/tau_D - U*R*spikes\n",
    "R = R + dt*dR\n",
    "```\n",
    "\n",
    "\n",
    "\n",
    "# 2. Play with model\n",
    "\n",
    "## 2.1 Change the parameters\n",
    "## 2.2 Change the presynaptic frequency\n",
    "\n",
    "# 3. Fitting the model to an experiment\n",
    "Now you will try to manually fit the parameters of the model to a real experiment."
   ]
  },
  {
   "cell_type": "code",
   "execution_count": 31,
   "metadata": {},
   "outputs": [
    {
     "data": {
      "image/png": "[encoded data removed]",
      "text/plain": [
       "<matplotlib.figure.Figure at 0x1115b6e10>"
      ]
     },
     "metadata": {},
     "output_type": "display_data"
    }
   ],
   "source": [
    "import code\n",
    "import math\n",
    "import matplotlib\n",
    "import numpy as np\n",
    "import matplotlib.pyplot as plt\n",
    "import seaborn as sns\n",
    "\n",
    "sns.set(style=\"ticks\")\n",
    "plt.rc('axes', labelsize=12)\n",
    "colorp = \"Paired\"\n",
    "colors = sns.color_palette(colorp,10)\n",
    "sns.set_palette(colorp,10)\n",
    "\n",
    "# Tsodyks and Markram model of Short-term Synaptic Plasticity\n",
    "# dR/dt = (1-R)/tau_D - U*R*spike(t)\n",
    "# PSP = A*r*U\n",
    "\n",
    "A = 2\n",
    "U = 0.7 #Utilization factor/Release probability\n",
    "tau_D = 100 #Depression timeconstant (ms)\n",
    "tau_m = 20\n",
    "\n",
    "time = 2000\n",
    "\n",
    "\n",
    "R = np.ones((time,1))\n",
    "Vm = np.zeros((time,1))\n",
    "PSPs = np.zeros((time,1))\n",
    "spikes = np.zeros((time,1))\n",
    "spikes[20] = 1\n",
    "spikes[220] = 1\n",
    "spikes[1020] = 1\n",
    "dt = 0.1\n",
    "\n",
    "\n",
    "for t in range(1,time-1):\n",
    "    dVm = -Vm[t]/tau_m + A*R[t]*U*spikes[t]\n",
    "    Vm[t+1] = Vm[t] + dt*dVm\n",
    "    \n",
    "    #PSPs[t] = A*R[t]*U\n",
    "    dR = (1-R[t])/tau_D - U*R[t]*spikes[t]/dt\n",
    "    R[t+1] = R[t] + dt*dR\n",
    "    \n",
    "\n",
    "#print(a)\n",
    "\n",
    "\n",
    "fig = plt.figure()\n",
    "\n",
    "lw = 2\n",
    "nrows = 2\n",
    "ncols = 2\n",
    "\n",
    "#A: Postsynaptic responses\n",
    "ax_A = plt.subplot2grid((nrows,ncols), (0, 0), colspan=2)\n",
    "\n",
    "linear_fun = np.arange(1,time+1)\n",
    "\n",
    "ax_A.plot(linear_fun, Vm, label='postsynaptic responses', linewidth=lw, color='gray')\n",
    "ax_A.set(xlabel='time (ms)', ylabel='post. pot. [mV]')#, xlim=(0,30), ylim=(-5,30))\n",
    "\n",
    "#B: Presynaptic vesicles\n",
    "ax_B = plt.subplot2grid((nrows,ncols), (1, 0), colspan=2)\n",
    "ax_B.plot(linear_fun, R, label='pre vesicles', linewidth=lw)\n",
    "ax_B.set(xlabel='time (ms)', ylabel='vesicles available')#, xlim=(0,30), ylim=(-5,30))\n",
    "\n",
    "sns.despine()\n",
    "\n",
    "plt.tight_layout()\n",
    "\n",
    "#plt.savefig(loadpath + 'Figures/Figure_0_gating_v1.pdf')\n",
    "plt.show()"
   ]
  },
  {
   "cell_type": "code",
   "execution_count": null,
   "metadata": {
    "collapsed": true
   },
   "outputs": [],
   "source": []
  },
  {
   "cell_type": "code",
   "execution_count": null,
   "metadata": {
    "collapsed": true
   },
   "outputs": [],
   "source": []
  }
 ],
 "metadata": {
  "kernelspec": {
   "display_name": "Python 2",
   "language": "python",
   "name": "python2"
  },
  "language_info": {
   "codemirror_mode": {
    "name": "ipython",
    "version": 2
   },
   "file_extension": ".py",
   "mimetype": "text/x-python",
   "name": "python",
   "nbconvert_exporter": "python",
   "pygments_lexer": "ipython2",
   "version": "2.7.13"
  }
 },
 "nbformat": 4,
 "nbformat_minor": 2
}
